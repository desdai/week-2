{
 "cells": [
  {
   "cell_type": "markdown",
   "id": "6cf1aed9",
   "metadata": {},
   "source": [
    "<font color='darkred'> Unless otherwise noted, **this notebook will not be reviewed or autograded.**</font> You are welcome to use it for scratchwork, but **only the files listed in the exercises will be checked.**\n",
    "\n",
    "---\n",
    "\n",
    "# Exercises\n",
    "\n",
    "For these exercises, add your functions to the *apputil\\.py* file. If you like, you're welcome to adjust the *app\\.py* file, but it is not required.\n",
    "\n",
    "## Exercise 1\n",
    "\n",
    "Given enough pennies (1 cent) and nickels (5 cents), write a function `ways(n)` which calculates the number of ways you can make change for a given amount of cents `n`. The function should return the number of ways to yield `n` cents using only pennies and nickels.\n",
    "\n",
    "**Test Cases:**\n",
    "\n",
    "```python\n",
    "function   --->      (num pennies, num nickels)\n",
    "    \n",
    "ways(12)   ---> 3    [(2, 2), (7, 1), (12, 0)]               \n",
    "ways(20)   ---> 5    [(0, 4), (5, 3), (10, 2), (15, 1), (20, 0)]\n",
    "ways(3)    ---> 1    [(3, 0)]\n",
    "ways(0)    ---> 1    [(0, 0)]\n",
    "```\n",
    "\n",
    "*Note: the autograder will be checking only for the function to return the **number** of ways. The items listed to the right, above, are for reference only.*"
   ]
  },
  {
   "cell_type": "markdown",
   "id": "a067cdd5",
   "metadata": {
    "vscode": {
     "languageId": "plaintext"
    }
   },
   "source": [
    "### optional variation\n",
    "\n",
    "Update your `ways` function to incorporate an *arbitrary* set of coin values. I.e., your function should now look something like this:\n",
    "\n",
    "```python\n",
    "def ways(cents, coin_types=[1, 5]):\n",
    "    # code code ...\n",
    "\n",
    ">>> ways(100, [25, 10, 5, 1])\n",
    ">>> 242\n",
    "```\n"
   ]
  },
  {
   "cell_type": "code",
   "execution_count": 9,
   "id": "ae5247e1",
   "metadata": {},
   "outputs": [
    {
     "name": "stdout",
     "output_type": "stream",
     "text": [
      "9\n",
      "242\n"
     ]
    }
   ],
   "source": [
    "def ways(n: int) -> int:\n",
    "    \"\"\"\n",
    "    Returns the number of ways to make n cents using pennies (1 cent) and nickels (5 cents).\n",
    "    \"\"\"\n",
    "    # For every possible number of nickels (from 0 up to n//5),\n",
    "    # the remainder can be filled with pennies.\n",
    "    return n // 5 + 1\n",
    "\n",
    "def ways_set(cents: int, coin_types=[1, 5]) -> int:\n",
    "    \"\"\"\n",
    "    Return the number of ways to make 'cents' using the given coin_types.\n",
    "    \n",
    "    Parameters\n",
    "    ----------\n",
    "    cents : int\n",
    "        The target amount in cents.\n",
    "    coin_types : list[int], optional\n",
    "        List of available coin denominations. Defaults to [1, 5].\n",
    "\n",
    "    Returns\n",
    "    -------\n",
    "    int\n",
    "        Number of ways to make 'cents' using the given coin types.\n",
    "    \"\"\"\n",
    "    # Use dp: dp[i] = number of ways to make i cents\n",
    "    dp = [0] * (cents + 1) # Initialize dp array [0,0,...,0]\n",
    "    dp[0] = 1  # One way to make 0 cents (no coins)\n",
    "\n",
    "    # For each coin, update the dp\n",
    "    for coin in coin_types:\n",
    "        for amount in range(coin, cents + 1):\n",
    "            dp[amount] += dp[amount - coin]\n",
    "\n",
    "    return dp[cents]\n",
    "print(ways_set(20,[1,5,10])) \n",
    "print(ways_set(100, [25, 10, 5, 1]))"
   ]
  },
  {
   "cell_type": "markdown",
   "id": "28682d59",
   "metadata": {},
   "source": [
    "## Exercise 2\n",
    "\n",
    "Suppose we have student `names`, and test `scores` for each student, respectively. For example, we could have:\n",
    "\n",
    "```python\n",
    "names = np.array(['Hannah', 'Astrid', 'Abdul', 'Mauve', 'Jung'])\n",
    "scores = np.array([99, 71, 85, 62, 91])\n",
    "```\n",
    "\n",
    "### part 1\n",
    "\n",
    "Use NumPy to write a function `lowest_score(names, scores)` that returns the `name` of the student with the lowest `score`.\n",
    "\n",
    "> Hint: take a look at the [argmin](https://numpy.org/doc/stable/reference/generated/numpy.argmin.html) function.\n",
    "\n",
    "### part 2\n",
    "\n",
    "Write a similar function `sort_names(names, scores)` that will list the names of students in *descending* order of test score (i.e., a list of names, with associated scores in order from highest to lowest)."
   ]
  },
  {
   "cell_type": "code",
   "execution_count": 11,
   "id": "8d78555f",
   "metadata": {},
   "outputs": [
    {
     "name": "stdout",
     "output_type": "stream",
     "text": [
      "Mauve\n",
      "['Hannah', 'Jung', 'Abdul', 'Astrid', 'Mauve']\n"
     ]
    }
   ],
   "source": [
    "import numpy as np\n",
    "\n",
    "def lowest_score(names: np.ndarray, scores: np.ndarray) -> str:\n",
    "    \"\"\"\n",
    "    Return the name of the student with the lowest score.\n",
    "    \"\"\"\n",
    "    idx = np.argmin(scores)   # index of the lowest score\n",
    "    return names[idx]\n",
    "\n",
    "names = np.array(['Hannah', 'Astrid', 'Abdul', 'Mauve', 'Jung'])\n",
    "scores = np.array([99, 71, 85, 62, 91])\n",
    "\n",
    "print(lowest_score(names, scores))\n",
    "\n",
    "def sort_names(names: np.ndarray, scores: np.ndarray) -> list[str]:\n",
    "    \"\"\"\n",
    "    Return a list of names sorted by descending score.\n",
    "    \"\"\"\n",
    "    idx_sorted = np.argsort(scores)[::-1]  # indices sorted high→low\n",
    "    return names[idx_sorted].tolist()\n",
    "print(sort_names(names, scores))"
   ]
  }
 ],
 "metadata": {
  "kernelspec": {
   "display_name": "base",
   "language": "python",
   "name": "python3"
  },
  "language_info": {
   "codemirror_mode": {
    "name": "ipython",
    "version": 3
   },
   "file_extension": ".py",
   "mimetype": "text/x-python",
   "name": "python",
   "nbconvert_exporter": "python",
   "pygments_lexer": "ipython3",
   "version": "3.11.13"
  }
 },
 "nbformat": 4,
 "nbformat_minor": 5
}
